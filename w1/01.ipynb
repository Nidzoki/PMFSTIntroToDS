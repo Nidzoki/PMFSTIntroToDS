{
  "nbformat": 4,
  "nbformat_minor": 0,
  "metadata": {
    "colab": {
      "provenance": [],
      "include_colab_link": true
    },
    "kernelspec": {
      "name": "python3",
      "display_name": "Python 3"
    },
    "language_info": {
      "name": "python"
    }
  },
  "cells": [
    {
      "cell_type": "markdown",
      "metadata": {
        "id": "view-in-github",
        "colab_type": "text"
      },
      "source": [
        "<a href=\"https://colab.research.google.com/github/Nidzoki/PMFSTIntroToDS/blob/main/w1/01.ipynb\" target=\"_parent\"><img src=\"https://colab.research.google.com/assets/colab-badge.svg\" alt=\"Open In Colab\"/></a>"
      ]
    },
    {
      "cell_type": "markdown",
      "source": [
        "<div align=\"center\">\n",
        "\n",
        "### 2025./2026.\n",
        "\n",
        "# UVOD U PODATKOVNU ZNANOST\n",
        "## **Domaća zadaća  1**\n",
        "#### Zadaci za samostalan rad\n",
        "\n",
        "</div>"
      ],
      "metadata": {
        "id": "KVBBUHaiPI2Q"
      }
    },
    {
      "cell_type": "markdown",
      "source": [
        "# 1. Formatiranje tekstualnih ćelija"
      ],
      "metadata": {
        "id": "dzm5P6HJmDyR"
      }
    },
    {
      "cell_type": "markdown",
      "source": [
        "#### **Zadatak 1.**\n",
        "\n",
        "U tekstualnoj ćeliji ispod napravite tablicu istinitosti za jedan od logičkih sklopova.\n",
        "\n",
        "<br>\n",
        "\n",
        "![](https://drive.google.com/uc?export=view&id=1XHiDn6EqZcvhrY8nyyz0Ffrx1q3Xt8w1)\n",
        "\n",
        "\n"
      ],
      "metadata": {
        "id": "AH0CRtMnmcMG"
      }
    },
    {
      "cell_type": "markdown",
      "source": [
        "**Rješenje:**\n",
        "\n",
        "<table style=\"border: 1pt black solid\">\n",
        "  XNOR\n",
        "  <tr>\n",
        "    <th>A</th>\n",
        "    <th>B</th>\n",
        "    <th>OUTPUT</th>\n",
        "  </tr>\n",
        "\n",
        "  <tr>\n",
        "    <td>0</td>\n",
        "    <td>0</td>\n",
        "    <td><center>1</center></td>\n",
        "  </tr>\n",
        "  <tr>\n",
        "    <td>0</td>\n",
        "    <td>1</td>\n",
        "    <td><center>0</center></td>\n",
        "  </tr>\n",
        "  <tr>\n",
        "    <td>1</td>\n",
        "    <td>0</td>\n",
        "    <td><center>0</center></td>\n",
        "    </tr>\n",
        "  <tr>\n",
        "    <td>1</td>\n",
        "    <td>1</td>\n",
        "    <td><center>1</center></td>\n",
        "  </tr>\n",
        "\n",
        "</table>"
      ],
      "metadata": {
        "id": "D8qoqA46mgJD"
      }
    },
    {
      "cell_type": "markdown",
      "source": [
        "#### **Zadatak 2**\n",
        "\n",
        "Na webu pronađite sliku koja prikazuje *proces podatkovne znanosti* (*data science process*)  i prikažite je ovdje.\n",
        "\n",
        "<img src=\"https://encrypted-tbn0.gstatic.com/images?q=tbn:ANd9GcTsM5ngoaD4KHua4YVJyfZKawciYeODAKMQ1zLYUacxyqjEr2g&s\" alt=\"proces podatkovne znanosti\">"
      ],
      "metadata": {
        "id": "rx_3o-7kmmrD"
      }
    },
    {
      "cell_type": "markdown",
      "source": [
        "**Rješenje:**"
      ],
      "metadata": {
        "id": "ZRbg0zQzy6n7"
      }
    },
    {
      "cell_type": "markdown",
      "source": [
        "#### **Zadatak 3**\n",
        "Koristeći LaTex, zapišite Taylorov red za funkciju sinus.\n",
        "\n",
        "![](https://drive.google.com/uc?export=view&id=1leRipxflsg4yHUPkcZw-7I2bq0sVgY9J)\n",
        "\n"
      ],
      "metadata": {
        "id": "YyEYYo79mz_E"
      }
    },
    {
      "cell_type": "markdown",
      "source": [
        "**Rješenje:**"
      ],
      "metadata": {
        "id": "wbjExel5yo10"
      }
    },
    {
      "cell_type": "markdown",
      "source": [
        "$$sin(x) = x - \\dfrac{x^3}{3!} + \\dfrac{x^5}{5!} - \\dfrac{x^7}{7!} \\; + \\; ... \\\\ = \\sum^n_{n=0} \\dfrac{(-1)^n}{(2n+1)!} x^{2n+1}$$"
      ],
      "metadata": {
        "id": "2nAyQhMgITnV"
      }
    },
    {
      "cell_type": "markdown",
      "source": [
        "# 2. Pisanje i izvršavanje Python koda"
      ],
      "metadata": {
        "id": "b_v18ywnmHMl"
      }
    },
    {
      "cell_type": "markdown",
      "source": [
        "#### **Zadatak 1**\n",
        "Napišite svoju metodu za zbrajanje dva broja koja prima dva broja te vraća zbroj. Pozovite tu funkciju nad 2 proizvoljna broja i ispišite rezultat."
      ],
      "metadata": {
        "id": "6PJvcaUboSFw"
      }
    },
    {
      "cell_type": "code",
      "source": [
        "def zbroj(a, b):\n",
        "  return a + b\n",
        "\n",
        "print(zbroj(4, 5))"
      ],
      "metadata": {
        "id": "HrsLlLnroRuM",
        "colab": {
          "base_uri": "https://localhost:8080/"
        },
        "outputId": "39befca5-5c23-4469-a856-800425f4cfad"
      },
      "execution_count": 3,
      "outputs": [
        {
          "output_type": "stream",
          "name": "stdout",
          "text": [
            "9\n"
          ]
        }
      ]
    },
    {
      "cell_type": "markdown",
      "source": [
        "####**Zadatak 2**\n",
        "Učitajte potreban paket `random` koristeći skraćeno ime/alias `rnd`. Generirajte niz od 100 slučajnih cijelih brojeva iz intervala $[1, 25]$ te ga ispišite."
      ],
      "metadata": {
        "id": "yQPy84DXo0dJ"
      }
    },
    {
      "cell_type": "code",
      "source": [
        "import random as rnd\n",
        "\n",
        "niz = [rnd.randint(1, 25) for x in range(100)]\n",
        "print(niz)"
      ],
      "metadata": {
        "id": "jjmNx-Fno0Ng",
        "colab": {
          "base_uri": "https://localhost:8080/"
        },
        "outputId": "39d1e3c3-0a98-4a96-d3ab-d7b924dfa94a"
      },
      "execution_count": 9,
      "outputs": [
        {
          "output_type": "stream",
          "name": "stdout",
          "text": [
            "[19, 7, 15, 24, 20, 1, 17, 9, 12, 25, 1, 10, 8, 11, 22, 13, 13, 2, 4, 24, 4, 13, 2, 4, 21, 3, 5, 10, 15, 12, 6, 11, 2, 2, 21, 21, 20, 8, 6, 17, 15, 12, 3, 3, 23, 14, 6, 17, 13, 6, 13, 21, 24, 21, 8, 4, 12, 13, 21, 21, 21, 10, 11, 21, 1, 17, 24, 3, 2, 18, 21, 10, 2, 18, 2, 8, 23, 8, 21, 7, 15, 5, 18, 11, 2, 5, 24, 4, 12, 4, 3, 10, 21, 1, 2, 18, 18, 13, 7, 21]\n"
          ]
        }
      ]
    },
    {
      "cell_type": "markdown",
      "source": [
        "#### **Zadatak 3**\n",
        "Koristite čarobnu naredbu da izračunate koliko vremena treba za izračun novog niza u kojem je svaki element kvadrat odgovarajućeg elementa u nizu od 100 brojeva iz **Zadatka 1**."
      ],
      "metadata": {
        "id": "Atif74yCo-9h"
      }
    },
    {
      "cell_type": "code",
      "source": [
        "# valjda iz zadatka 2\n",
        "%%timeit\n",
        "niz_kvadrata = [x**2 for x in niz]"
      ],
      "metadata": {
        "id": "aVpMumnDr7DT",
        "colab": {
          "base_uri": "https://localhost:8080/"
        },
        "outputId": "61addf76-74c5-4f30-e040-3069e9d3b1a3"
      },
      "execution_count": 12,
      "outputs": [
        {
          "output_type": "stream",
          "name": "stdout",
          "text": [
            "5.36 µs ± 142 ns per loop (mean ± std. dev. of 7 runs, 100000 loops each)\n"
          ]
        }
      ]
    },
    {
      "cell_type": "markdown",
      "source": [
        "#### **Zadatak 4**\n",
        "Provjerite verzije biblioteka `numpy`, `pandas` i `matplotlib` koje se nalaze već instalirane u Google Colab-u."
      ],
      "metadata": {
        "id": "CVecYk4Cu3p1"
      }
    },
    {
      "cell_type": "code",
      "source": [
        "import numpy as np\n",
        "import pandas as pd\n",
        "import matplotlib as mpl\n",
        "\n",
        "\n",
        "print(\"numpy: \", np.__version__, \"\\npandas: \", pd.__version__, \"\\nmatplotlib: \", mpl.__version__)\n"
      ],
      "metadata": {
        "id": "NjshMypsu4IO",
        "colab": {
          "base_uri": "https://localhost:8080/"
        },
        "outputId": "a43a1942-84a8-4394-c49b-a093f472a8c3"
      },
      "execution_count": 24,
      "outputs": [
        {
          "output_type": "stream",
          "name": "stdout",
          "text": [
            "numpy:  2.0.2 \n",
            "pandas:  2.2.2 \n",
            "matplotlib:  3.10.0\n"
          ]
        }
      ]
    },
    {
      "cell_type": "markdown",
      "source": [
        "# 3. Rad s datotekama"
      ],
      "metadata": {
        "id": "alOGSvAMmJgE"
      }
    },
    {
      "cell_type": "markdown",
      "source": [
        "##### **Zadatak 1**\n",
        "Kreirajte txt datoteku u koju ćete spremiti 100 brojeva iz niza generiranog u **Zadatku 3**. Preuzmite je na svoje računalo."
      ],
      "metadata": {
        "id": "HEIBNSl3quzO"
      }
    },
    {
      "cell_type": "code",
      "source": [
        "with open(\"brojevi.txt\", \"w\") as f:\n",
        "  for broj in niz:\n",
        "    f.write(str(broj) + \"\\n\")\n",
        "\n",
        "print(\"Datoteka 'brojevi.txt' je uspješno kreirana.\")"
      ],
      "metadata": {
        "id": "hcQTXJmqzEme",
        "colab": {
          "base_uri": "https://localhost:8080/"
        },
        "outputId": "e89a7313-a9d6-4a02-860a-78503adf3fea"
      },
      "execution_count": 25,
      "outputs": [
        {
          "output_type": "stream",
          "name": "stdout",
          "text": [
            "Datoteka 'brojevi.txt' je uspješno kreirana.\n"
          ]
        }
      ]
    },
    {
      "cell_type": "markdown",
      "source": [
        "##### **Zadatak 2**\n",
        "Lokalno promijenite datoteku iz **Zadatka 1** (na bilo koji način, npr. obrišite ili dodajte neke brojeve) te je postavite na svoj Google Drive. Zatim učitajte tu datoteku i ispišite njezin sadržaj."
      ],
      "metadata": {
        "id": "UDBrj_BRq_YE"
      }
    },
    {
      "cell_type": "code",
      "source": [
        "from google.colab import drive\n",
        "drive.mount('/content/drive')"
      ],
      "metadata": {
        "colab": {
          "base_uri": "https://localhost:8080/"
        },
        "id": "hucPKkPmQQPb",
        "outputId": "5a7bb66f-6447-477f-900f-01d0ac164bec"
      },
      "execution_count": 26,
      "outputs": [
        {
          "output_type": "stream",
          "name": "stdout",
          "text": [
            "Mounted at /content/drive\n"
          ]
        }
      ]
    },
    {
      "cell_type": "code",
      "source": [
        "with open(\"/content/drive/MyDrive/brojevi.txt\") as f:\n",
        "  print(f.read(-1))"
      ],
      "metadata": {
        "id": "WQm6toNWmG8v",
        "colab": {
          "base_uri": "https://localhost:8080/"
        },
        "outputId": "cd06e28e-5eee-43a3-a679-546456dabf8b"
      },
      "execution_count": 28,
      "outputs": [
        {
          "output_type": "stream",
          "name": "stdout",
          "text": [
            "Nikola je bio u ovoj datoteci i promijenio sadržaj!!!\n",
            "\n",
            "⠀⠀⠀⠀⠀⢀⣤⠤⠤⠤⠤⠤⠤⠤⠤⠤⠤⢤⣤⣀⣀⡀⠀⠀⠀⠀⠀⠀\n",
            "⠀⠀⠀⠀⢀⡼⠋⠀⣀⠄⡂⠍⣀⣒⣒⠂⠀⠬⠤⠤⠬⠍⠉⠝⠲⣄⡀⠀⠀\n",
            "⠀⠀⠀⢀⡾⠁⠀⠊⢔⠕⠈⣀⣀⡀⠈⠆⠀⠀⠀⡍⠁⠀⠁⢂⠀⠈⣷⠀⠀\n",
            "⠀⠀⣠⣾⠥⠀⠀⣠⢠⣞⣿⣿⣿⣉⠳⣄⠀⠀⣀⣤⣶⣶⣶⡄⠀⠀⣘⢦⡀\n",
            "⢀⡞⡍⣠⠞⢋⡛⠶⠤⣤⠴⠚⠀⠈⠙⠁⠀⠀⢹⡏⠁⠀⣀⣠⠤⢤⡕⠱⣷\n",
            "⠘⡇⠇⣯⠤⢾⡙⠲⢤⣀⡀⠤⠀⢲⡖⣂⣀⠀⠀⢙⣶⣄⠈⠉⣸⡄⠠⣠⡿\n",
            "⠀⠹⣜⡪⠀⠈⢷⣦⣬⣏⠉⠛⠲⣮⣧⣁⣀⣀⠶⠞⢁⣀⣨⢶⢿⣧⠉⡼⠁\n",
            "⠀⠀⠈⢷⡀⠀⠀⠳⣌⡟⠻⠷⣶⣧⣀⣀⣹⣉⣉⣿⣉⣉⣇⣼⣾⣿⠀⡇⠀\n",
            "⠀⠀⠀⠈⢳⡄⠀⠀⠘⠳⣄⡀⡼⠈⠉⠛⡿⠿⠿⡿⠿⣿⢿⣿⣿⡇⠀⡇⠀\n",
            "⠀⠀⠀⠀⠀⠙⢦⣕⠠⣒⠌⡙⠓⠶⠤⣤⣧⣀⣸⣇⣴⣧⠾⠾⠋⠀⠀⡇⠀\n",
            "⠀⠀⠀⠀⠀⠀⠀⠈⠙⠶⣭⣒⠩⠖⢠⣤⠄⠀⠀⠀⠀⠀⠠⠔⠁⡰⠀⣧⠀\n",
            "⠀⠀⠀⠀⠀⠀⠀⠀⠀⠀⠀⠉⠛⠲⢤⣀⣀⠉⠉⠀⠀⠀⠀⠀⠁⠀⣠⠏⠀\n",
            "⠀⠀⠀⠀⠀⠀⠀⠀⠀⠀⠀⠀⠀⠀⠀⠈⠉⠉⠛⠒⠲⠶⠤⠴⠒⠚⠁\n",
            "\n",
            "\n"
          ]
        }
      ]
    }
  ]
}